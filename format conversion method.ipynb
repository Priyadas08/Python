{
 "cells": [
  {
   "cell_type": "code",
   "execution_count": 1,
   "id": "1db0115d",
   "metadata": {},
   "outputs": [
    {
     "name": "stdout",
     "output_type": "stream",
     "text": [
      "I am Priya Das and i am from asansol\n"
     ]
    }
   ],
   "source": [
    "print(\"I am Priya Das and i am from %s\"%'asansol')"
   ]
  },
  {
   "cell_type": "code",
   "execution_count": 2,
   "id": "677a004e",
   "metadata": {},
   "outputs": [
    {
     "name": "stdout",
     "output_type": "stream",
     "text": [
      "I am Priya Das and i am from asansol\n",
      "I am Priya Das and i am from 'asansol'\n",
      "I am Priya Das and i am from \tasansol\n",
      "I am Priya Das and i am from '\\tasansol'\n",
      "today/'s temp here is 27.8\n",
      "today/'s temp here is 27\n"
     ]
    }
   ],
   "source": [
    "print(\"I am Priya Das and i am from %s\"%'asansol')\n",
    "print(\"I am Priya Das and i am from %r\"%'asansol')\n",
    "print(\"I am Priya Das and i am from %s\"%'\\tasansol')\n",
    "print(\"I am Priya Das and i am from %r\"%'\\tasansol')\n",
    "print(\"today/'s temp here is %s\"%27.8)\n",
    "print(\"today/'s temp here is %d\"%27.8)"
   ]
  },
  {
   "cell_type": "code",
   "execution_count": null,
   "id": "06f19014",
   "metadata": {},
   "outputs": [],
   "source": []
  }
 ],
 "metadata": {
  "kernelspec": {
   "display_name": "Python 3",
   "language": "python",
   "name": "python3"
  },
  "language_info": {
   "codemirror_mode": {
    "name": "ipython",
    "version": 3
   },
   "file_extension": ".py",
   "mimetype": "text/x-python",
   "name": "python",
   "nbconvert_exporter": "python",
   "pygments_lexer": "ipython3",
   "version": "3.7.11"
  }
 },
 "nbformat": 4,
 "nbformat_minor": 5
}
