{
 "cells": [
  {
   "cell_type": "code",
   "execution_count": 5,
   "id": "daa0fa88",
   "metadata": {},
   "outputs": [
    {
     "name": "stdout",
     "output_type": "stream",
     "text": [
      "10\n",
      "14\n",
      "4\n",
      "-11\n",
      "-15\n",
      "5\n",
      "7\n",
      "40\n",
      "56\n"
     ]
    }
   ],
   "source": [
    "a=10\n",
    "b=14\n",
    "print(a&b)\n",
    "print(a|b)\n",
    "print(a^b)\n",
    "print(~a)\n",
    "print(~b)\n",
    "print(a>>1)\n",
    "print(b>>1)\n",
    "print(a<<2)\n",
    "print(b<<2)"
   ]
  },
  {
   "cell_type": "code",
   "execution_count": null,
   "id": "92ad9a82",
   "metadata": {},
   "outputs": [],
   "source": []
  }
 ],
 "metadata": {
  "kernelspec": {
   "display_name": "Python 3",
   "language": "python",
   "name": "python3"
  },
  "language_info": {
   "codemirror_mode": {
    "name": "ipython",
    "version": 3
   },
   "file_extension": ".py",
   "mimetype": "text/x-python",
   "name": "python",
   "nbconvert_exporter": "python",
   "pygments_lexer": "ipython3",
   "version": "3.7.11"
  }
 },
 "nbformat": 4,
 "nbformat_minor": 5
}
