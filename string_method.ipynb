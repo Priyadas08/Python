{
 "cells": [
  {
   "cell_type": "code",
   "execution_count": 1,
   "metadata": {},
   "outputs": [
    {
     "name": "stdout",
     "output_type": "stream",
     "text": [
      "PRIYA DAS\n"
     ]
    }
   ],
   "source": [
    "name=\"Priya Das\"\n",
    "print(name.upper())"
   ]
  },
  {
   "cell_type": "code",
   "execution_count": 2,
   "metadata": {},
   "outputs": [
    {
     "name": "stdout",
     "output_type": "stream",
     "text": [
      "PRIYA DAS\n",
      "priya das\n"
     ]
    }
   ],
   "source": [
    "name=\"Priya Das\"\n",
    "print(name.upper())\n",
    "print(name.lower())\n"
   ]
  },
  {
   "cell_type": "code",
   "execution_count": 3,
   "metadata": {},
   "outputs": [
    {
     "name": "stdout",
     "output_type": "stream",
     "text": [
      "PRIYA DAS\n",
      "priya das\n",
      "Priya Das\n"
     ]
    }
   ],
   "source": [
    "name=\"Priya Das\"\n",
    "print(name.upper())\n",
    "print(name.lower())\n",
    "print(name.title())\n"
   ]
  },
  {
   "cell_type": "code",
   "execution_count": 5,
   "metadata": {},
   "outputs": [
    {
     "name": "stdout",
     "output_type": "stream",
     "text": [
      "PRIYA DAS\n",
      "priya das\n",
      "Priya Das\n",
      "4\n"
     ]
    }
   ],
   "source": [
    "name=\"Priya Das\"\n",
    "print(name.upper())\n",
    "print(name.lower())\n",
    "print(name.title())\n",
    "print(name.find(\"a\"))"
   ]
  },
  {
   "cell_type": "code",
   "execution_count": 7,
   "metadata": {},
   "outputs": [
    {
     "name": "stdout",
     "output_type": "stream",
     "text": [
      "PRIYA DAS\n",
      "priya das\n",
      "Priya Das\n",
      "4\n",
      "-1\n"
     ]
    }
   ],
   "source": [
    "name=\"Priya Das\"\n",
    "print(name.upper())\n",
    "print(name.lower())\n",
    "print(name.title())\n",
    "print(name.find(\"a\"))\n",
    "print(name.find(\"2a\"))"
   ]
  },
  {
   "cell_type": "code",
   "execution_count": 10,
   "metadata": {},
   "outputs": [
    {
     "name": "stdout",
     "output_type": "stream",
     "text": [
      "PRIYA DAS\n",
      "priya das\n",
      "Priya Das\n",
      "4\n",
      "-1\n",
      "Arpita Das\n"
     ]
    }
   ],
   "source": [
    "name=\"Priya Das\"\n",
    "print(name.upper())\n",
    "print(name.lower())\n",
    "print(name.title())\n",
    "print(name.find(\"a\"))\n",
    "print(name.find(\"2a\"))\n",
    "print(name.replace(\"Priya\",\"Arpita\"))"
   ]
  },
  {
   "cell_type": "code",
   "execution_count": null,
   "metadata": {},
   "outputs": [],
   "source": []
  }
 ],
 "metadata": {
  "kernelspec": {
   "display_name": "Python 3",
   "language": "python",
   "name": "python3"
  },
  "language_info": {
   "codemirror_mode": {
    "name": "ipython",
    "version": 3
   },
   "file_extension": ".py",
   "mimetype": "text/x-python",
   "name": "python",
   "nbconvert_exporter": "python",
   "pygments_lexer": "ipython3",
   "version": "3.7.4"
  }
 },
 "nbformat": 4,
 "nbformat_minor": 2
}
