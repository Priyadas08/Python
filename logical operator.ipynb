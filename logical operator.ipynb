{
 "cells": [
  {
   "cell_type": "code",
   "execution_count": null,
   "id": "9c372780",
   "metadata": {},
   "outputs": [],
   "source": []
  },
  {
   "cell_type": "code",
   "execution_count": null,
   "id": "305b5013",
   "metadata": {},
   "outputs": [],
   "source": [
    "a=2\n",
    "b=6\n",
    "print(a>0 & a<b)\n",
    "print(a<b | b>7)\n",
    "print(!(a=0 & b>7))\n",
    "print(!(a=0 | b<7))"
   ]
  },
  {
   "cell_type": "code",
   "execution_count": null,
   "id": "ac57c49f",
   "metadata": {},
   "outputs": [],
   "source": [
    "a=2\n",
    "b=6\n",
    "print(a>0 & a<b)\n",
    "print(a<b | b>7)\n",
    "print(~(a=0 & b>7))\n",
    "print(~(a=0 | b<7))"
   ]
  },
  {
   "cell_type": "code",
   "execution_count": null,
   "id": "07663546",
   "metadata": {},
   "outputs": [],
   "source": [
    "a=2\n",
    "b=6\n",
    "print(a>0 & a<b)\n",
    "print(a<b | b>7)\n",
    "print(~(a==0 & b>7))\n",
    "print(~(a==0 | b<7))"
   ]
  },
  {
   "cell_type": "code",
   "execution_count": 1,
   "id": "500b27c6",
   "metadata": {},
   "outputs": [
    {
     "name": "stdout",
     "output_type": "stream",
     "text": [
      "True\n",
      "False\n",
      "-1\n",
      "-1\n"
     ]
    }
   ],
   "source": [
    "a=2\n",
    "b=6\n",
    "print(a>0 & a<b)\n",
    "print(a<b | b>7)\n",
    "print(~(a==0 & b>7))\n",
    "print(~(a==0 | b<7))"
   ]
  },
  {
   "cell_type": "code",
   "execution_count": null,
   "id": "6a721972",
   "metadata": {},
   "outputs": [],
   "source": []
  }
 ],
 "metadata": {
  "kernelspec": {
   "display_name": "Python 3",
   "language": "python",
   "name": "python3"
  },
  "language_info": {
   "codemirror_mode": {
    "name": "ipython",
    "version": 3
   },
   "file_extension": ".py",
   "mimetype": "text/x-python",
   "name": "python",
   "nbconvert_exporter": "python",
   "pygments_lexer": "ipython3",
   "version": "3.7.11"
  }
 },
 "nbformat": 4,
 "nbformat_minor": 5
}
