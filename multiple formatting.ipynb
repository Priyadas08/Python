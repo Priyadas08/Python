{
 "cells": [
  {
   "cell_type": "code",
   "execution_count": 7,
   "id": "ffe1ccce",
   "metadata": {},
   "outputs": [
    {
     "name": "stdout",
     "output_type": "stream",
     "text": [
      "I am priya das\n",
      "'I am in 3rd year'\n",
      "my sgpa of this semester: 8.68\n"
     ]
    }
   ],
   "source": [
    "x=\"I am priya das\"\n",
    "y=\"I am in 3rd year\"\n",
    "sgpa=8.68\n",
    "print('%s\\n%r\\nmy sgpa of this semester:%5.2f'%(x,y,sgpa))"
   ]
  },
  {
   "cell_type": "code",
   "execution_count": null,
   "id": "2f109e43",
   "metadata": {},
   "outputs": [],
   "source": []
  }
 ],
 "metadata": {
  "kernelspec": {
   "display_name": "Python 3",
   "language": "python",
   "name": "python3"
  },
  "language_info": {
   "codemirror_mode": {
    "name": "ipython",
    "version": 3
   },
   "file_extension": ".py",
   "mimetype": "text/x-python",
   "name": "python",
   "nbconvert_exporter": "python",
   "pygments_lexer": "ipython3",
   "version": "3.7.11"
  }
 },
 "nbformat": 4,
 "nbformat_minor": 5
}
