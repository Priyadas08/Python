{
 "cells": [
  {
   "cell_type": "code",
   "execution_count": 3,
   "id": "73c70808",
   "metadata": {},
   "outputs": [
    {
     "data": {
      "text/plain": [
       "'two one'"
      ]
     },
     "execution_count": 3,
     "metadata": {},
     "output_type": "execute_result"
    }
   ],
   "source": [
    "'{1} {0}'.format('one', 'two')"
   ]
  },
  {
   "cell_type": "code",
   "execution_count": 4,
   "id": "455ab118",
   "metadata": {},
   "outputs": [
    {
     "data": {
      "text/plain": [
       "'one two'"
      ]
     },
     "execution_count": 4,
     "metadata": {},
     "output_type": "execute_result"
    }
   ],
   "source": [
    "'{1} {0}'.format('one', 'two')\n",
    "'{0} {1}'.format('one', 'two')"
   ]
  },
  {
   "cell_type": "code",
   "execution_count": 5,
   "id": "776798ab",
   "metadata": {},
   "outputs": [
    {
     "data": {
      "text/plain": [
       "'one one'"
      ]
     },
     "execution_count": 5,
     "metadata": {},
     "output_type": "execute_result"
    }
   ],
   "source": [
    "'{1} {0}'.format('one', 'two')\n",
    "'{0} {0}'.format('one', 'two')"
   ]
  },
  {
   "cell_type": "code",
   "execution_count": 8,
   "id": "e9d68ed5",
   "metadata": {},
   "outputs": [
    {
     "name": "stdout",
     "output_type": "stream",
     "text": [
      "two one\n",
      "one two\n",
      "one one\n",
      "two two\n"
     ]
    }
   ],
   "source": [
    "print('{1} {0}'.format('one', 'two'))\n",
    "print('{0} {1}'.format('one', 'two'))\n",
    "print('{0} {0}'.format('one', 'two'))\n",
    "print('{1} {1}'.format('one', 'two'))"
   ]
  },
  {
   "cell_type": "code",
   "execution_count": 13,
   "id": "9638cce8",
   "metadata": {},
   "outputs": [
    {
     "name": "stdout",
     "output_type": "stream",
     "text": [
      "floating point numbers     80.02:\n"
     ]
    }
   ],
   "source": [
    "x=80.020028\n",
    "print(\"floating point numbers%10.2f:\"%(x))"
   ]
  },
  {
   "cell_type": "code",
   "execution_count": 16,
   "id": "3486b884",
   "metadata": {},
   "outputs": [
    {
     "name": "stdout",
     "output_type": "stream",
     "text": [
      "floating point numbers     80.02:\n",
      "floating point numbers80.02:\n",
      "floating point numbers80:\n",
      "floating point numbers        80:\n"
     ]
    }
   ],
   "source": [
    "x=80.020028\n",
    "print(\"floating point numbers%10.2f:\"%(x))\n",
    "print(\"floating point numbers%0.2f:\"%(x))\n",
    "print(\"floating point numbers%1.0f:\"%(x))\n",
    "print(\"floating point numbers%10.0f:\"%(x))"
   ]
  },
  {
   "cell_type": "code",
   "execution_count": null,
   "id": "aa3deeba",
   "metadata": {},
   "outputs": [],
   "source": []
  }
 ],
 "metadata": {
  "kernelspec": {
   "display_name": "Python 3",
   "language": "python",
   "name": "python3"
  },
  "language_info": {
   "codemirror_mode": {
    "name": "ipython",
    "version": 3
   },
   "file_extension": ".py",
   "mimetype": "text/x-python",
   "name": "python",
   "nbconvert_exporter": "python",
   "pygments_lexer": "ipython3",
   "version": "3.7.11"
  }
 },
 "nbformat": 4,
 "nbformat_minor": 5
}
