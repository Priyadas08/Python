{
 "cells": [
  {
   "cell_type": "code",
   "execution_count": 3,
   "id": "e5fd20d7",
   "metadata": {},
   "outputs": [
    {
     "data": {
      "text/plain": [
       "'5'"
      ]
     },
     "execution_count": 3,
     "metadata": {},
     "output_type": "execute_result"
    }
   ],
   "source": [
    "s='123456789'\n",
    "s[4]"
   ]
  },
  {
   "cell_type": "code",
   "execution_count": 5,
   "id": "9b4dc2f5",
   "metadata": {},
   "outputs": [
    {
     "data": {
      "text/plain": [
       "'234567'"
      ]
     },
     "execution_count": 5,
     "metadata": {},
     "output_type": "execute_result"
    }
   ],
   "source": [
    "s='123456789'\n",
    "s[1:7]"
   ]
  },
  {
   "cell_type": "code",
   "execution_count": 7,
   "id": "419244e8",
   "metadata": {},
   "outputs": [
    {
     "data": {
      "text/plain": [
       "'123456789'"
      ]
     },
     "execution_count": 7,
     "metadata": {},
     "output_type": "execute_result"
    }
   ],
   "source": [
    "s='123456789'\n",
    "s[0:]"
   ]
  },
  {
   "cell_type": "code",
   "execution_count": 8,
   "id": "b0d80e95",
   "metadata": {},
   "outputs": [
    {
     "data": {
      "text/plain": [
       "'12345678'"
      ]
     },
     "execution_count": 8,
     "metadata": {},
     "output_type": "execute_result"
    }
   ],
   "source": [
    "s='123456789'\n",
    "s[:-1]"
   ]
  },
  {
   "cell_type": "code",
   "execution_count": 12,
   "id": "d252ee7e",
   "metadata": {},
   "outputs": [
    {
     "data": {
      "text/plain": [
       "'56789'"
      ]
     },
     "execution_count": 12,
     "metadata": {},
     "output_type": "execute_result"
    }
   ],
   "source": [
    "s='123456789'\n",
    "s[4:]"
   ]
  },
  {
   "cell_type": "code",
   "execution_count": 13,
   "id": "57f0827c",
   "metadata": {},
   "outputs": [
    {
     "data": {
      "text/plain": [
       "9"
      ]
     },
     "execution_count": 13,
     "metadata": {},
     "output_type": "execute_result"
    }
   ],
   "source": [
    "len(s)"
   ]
  },
  {
   "cell_type": "code",
   "execution_count": 15,
   "id": "4f544d67",
   "metadata": {},
   "outputs": [
    {
     "name": "stdout",
     "output_type": "stream",
     "text": [
      "above line starts with: 1\n"
     ]
    }
   ],
   "source": [
    "print('above line starts with:',s[0])"
   ]
  },
  {
   "cell_type": "code",
   "execution_count": null,
   "id": "acfb1cd0",
   "metadata": {},
   "outputs": [],
   "source": []
  }
 ],
 "metadata": {
  "kernelspec": {
   "display_name": "Python 3",
   "language": "python",
   "name": "python3"
  },
  "language_info": {
   "codemirror_mode": {
    "name": "ipython",
    "version": 3
   },
   "file_extension": ".py",
   "mimetype": "text/x-python",
   "name": "python",
   "nbconvert_exporter": "python",
   "pygments_lexer": "ipython3",
   "version": "3.7.11"
  }
 },
 "nbformat": 4,
 "nbformat_minor": 5
}
