{
 "cells": [
  {
   "cell_type": "code",
   "execution_count": 5,
   "id": "2498732e",
   "metadata": {},
   "outputs": [
    {
     "name": "stdout",
     "output_type": "stream",
     "text": [
      "y is greater\n"
     ]
    }
   ],
   "source": [
    "x=3\n",
    "y=2**3\n",
    "if(x>y):\n",
    "    print(\"x is greater than y\")\n",
    "elif(x==y):\n",
    "    print(\"x and y are equal\")\n",
    "else:\n",
    "        print(\"y is greater\")\n"
   ]
  },
  {
   "cell_type": "code",
   "execution_count": 8,
   "id": "90f1b6db",
   "metadata": {},
   "outputs": [
    {
     "name": "stdout",
     "output_type": "stream",
     "text": [
      "error\n"
     ]
    }
   ],
   "source": [
    "x=3\n",
    "y=2**3\n",
    "z=y/x\n",
    "if(z==0):\n",
    "    print(\"ans is:\"%z)\n",
    "else:\n",
    "     print(\"error\")"
   ]
  },
  {
   "cell_type": "code",
   "execution_count": 11,
   "id": "e90f06c9",
   "metadata": {},
   "outputs": [
    {
     "name": "stdout",
     "output_type": "stream",
     "text": [
      "error\n"
     ]
    }
   ],
   "source": [
    "x=2\n",
    "y=3**3\n",
    "z=y/x\n",
    "if(z==0):\n",
    "    print(z)\n",
    "else:\n",
    "     print(\"error\")"
   ]
  },
  {
   "cell_type": "code",
   "execution_count": null,
   "id": "1b7e1154",
   "metadata": {},
   "outputs": [],
   "source": []
  },
  {
   "cell_type": "code",
   "execution_count": null,
   "id": "d9d8d992",
   "metadata": {},
   "outputs": [],
   "source": []
  }
 ],
 "metadata": {
  "kernelspec": {
   "display_name": "Python 3",
   "language": "python",
   "name": "python3"
  },
  "language_info": {
   "codemirror_mode": {
    "name": "ipython",
    "version": 3
   },
   "file_extension": ".py",
   "mimetype": "text/x-python",
   "name": "python",
   "nbconvert_exporter": "python",
   "pygments_lexer": "ipython3",
   "version": "3.7.11"
  }
 },
 "nbformat": 4,
 "nbformat_minor": 5
}
