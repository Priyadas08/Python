{
 "cells": [
  {
   "cell_type": "code",
   "execution_count": 1,
   "id": "ba01c4a4",
   "metadata": {},
   "outputs": [
    {
     "name": "stdout",
     "output_type": "stream",
     "text": [
      "5\n",
      "1\n",
      "6\n",
      "1.5\n",
      "1\n",
      "1\n",
      "9\n"
     ]
    }
   ],
   "source": [
    "a=3\n",
    "b=2\n",
    "add=a+b\n",
    "sub=a-b\n",
    "mul=a*b\n",
    "div=a/b\n",
    "fdiv=a//b\n",
    "mod=a%b\n",
    "exp=a**b\n",
    "print(add)\n",
    "print(sub)\n",
    "print(mul)\n",
    "print(div)\n",
    "print(fdiv)\n",
    "print(mod)\n",
    "print(exp)"
   ]
  },
  {
   "cell_type": "code",
   "execution_count": 2,
   "id": "f3a4e2eb",
   "metadata": {},
   "outputs": [
    {
     "name": "stdout",
     "output_type": "stream",
     "text": [
      "5 1 6 1.5 1 1 9\n"
     ]
    }
   ],
   "source": [
    "a=3\n",
    "b=2\n",
    "add=a+b\n",
    "sub=a-b\n",
    "mul=a*b\n",
    "div=a/b\n",
    "fdiv=a//b\n",
    "mod=a%b\n",
    "exp=a**b\n",
    "print(add,sub,mul,div,fdiv,mod,exp)"
   ]
  },
  {
   "cell_type": "code",
   "execution_count": null,
   "id": "1a9bfb0d",
   "metadata": {},
   "outputs": [],
   "source": []
  }
 ],
 "metadata": {
  "kernelspec": {
   "display_name": "Python 3",
   "language": "python",
   "name": "python3"
  },
  "language_info": {
   "codemirror_mode": {
    "name": "ipython",
    "version": 3
   },
   "file_extension": ".py",
   "mimetype": "text/x-python",
   "name": "python",
   "nbconvert_exporter": "python",
   "pygments_lexer": "ipython3",
   "version": "3.7.11"
  }
 },
 "nbformat": 4,
 "nbformat_minor": 5
}
