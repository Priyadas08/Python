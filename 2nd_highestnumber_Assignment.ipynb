{
 "cells": [
  {
   "cell_type": "code",
   "execution_count": 1,
   "metadata": {},
   "outputs": [
    {
     "name": "stdout",
     "output_type": "stream",
     "text": [
      "Enter number of elements : 5\n",
      "1\n",
      "2\n",
      "3\n",
      "4\n",
      "5\n",
      "enter the elements [1, 2, 3, 4, 5]\n"
     ]
    }
   ],
   "source": [
    "lt = []\n",
    "n = int(input(\"Enter number of elements : \"))\n",
    "for i in range(0, n):\n",
    "    elem = int(input())\n",
    " \n",
    "    lt.append(elem)\n",
    "print(\"enter the elements\",lt)"
   ]
  },
  {
   "cell_type": "code",
   "execution_count": 14,
   "metadata": {},
   "outputs": [
    {
     "name": "stdout",
     "output_type": "stream",
     "text": [
      "Enter the number of:5\n",
      "2\n",
      "4\n",
      "5\n",
      "7\n",
      "8\n",
      "enter the elements [2, 4, 5, 7, 8]\n",
      "second highest of the list 7\n"
     ]
    }
   ],
   "source": [
    "lis=[]\n",
    "a=int(input(\"Enter the number of:\"))\n",
    "for i in range(0,a):\n",
    "    elements =int(input())\n",
    "               \n",
    "    lis.append(elements)\n",
    "    lis.sort()\n",
    "print(\"enter the elements\",lis)\n",
    "print(\"second highest of the list\",lis[a-2])"
   ]
  },
  {
   "cell_type": "code",
   "execution_count": 15,
   "metadata": {},
   "outputs": [
    {
     "name": "stdout",
     "output_type": "stream",
     "text": [
      "Enter the number of:9\n",
      "2\n",
      "3\n",
      "4\n",
      "6\n",
      "7\n",
      "1\n",
      "9\n",
      "7\n",
      "4\n",
      "enter the elements [1, 2, 3, 4, 4, 6, 7, 7, 9]\n",
      "second highest of the list 7\n"
     ]
    }
   ],
   "source": [
    "lis=[]\n",
    "a=int(input(\"Enter the number of:\"))\n",
    "for i in range(0,a):\n",
    "    elements =int(input())\n",
    "               \n",
    "    lis.append(elements)\n",
    "    lis.sort()\n",
    "print(\"enter the elements\",lis)\n",
    "print(\"second highest of the list\",lis[a-2])\n"
   ]
  },
  {
   "cell_type": "code",
   "execution_count": null,
   "metadata": {},
   "outputs": [],
   "source": []
  }
 ],
 "metadata": {
  "kernelspec": {
   "display_name": "Python 3",
   "language": "python",
   "name": "python3"
  },
  "language_info": {
   "codemirror_mode": {
    "name": "ipython",
    "version": 3
   },
   "file_extension": ".py",
   "mimetype": "text/x-python",
   "name": "python",
   "nbconvert_exporter": "python",
   "pygments_lexer": "ipython3",
   "version": "3.7.4"
  }
 },
 "nbformat": 4,
 "nbformat_minor": 2
}
