{
 "cells": [
  {
   "cell_type": "code",
   "execution_count": 1,
   "metadata": {},
   "outputs": [
    {
     "data": {
      "text/plain": [
       "[1, 9, 0, 4, 1, 5, 7]"
      ]
     },
     "execution_count": 1,
     "metadata": {},
     "output_type": "execute_result"
    }
   ],
   "source": [
    "seq = [1,9,0,4,1,5,7]\n",
    "seq\n"
   ]
  },
  {
   "cell_type": "code",
   "execution_count": 2,
   "metadata": {},
   "outputs": [
    {
     "name": "stdout",
     "output_type": "stream",
     "text": [
      "1\n",
      "9\n",
      "0\n",
      "4\n",
      "1\n",
      "5\n",
      "7\n"
     ]
    }
   ],
   "source": [
    "for item in seq:\n",
    "    print(item)"
   ]
  },
  {
   "cell_type": "code",
   "execution_count": 4,
   "metadata": {},
   "outputs": [
    {
     "name": "stdout",
     "output_type": "stream",
     "text": [
      "yes\n",
      "yes\n",
      "yes\n",
      "yes\n",
      "yes\n",
      "yes\n",
      "yes\n"
     ]
    }
   ],
   "source": [
    "for item in seq:\n",
    "    print('yes')"
   ]
  },
  {
   "cell_type": "code",
   "execution_count": 7,
   "metadata": {},
   "outputs": [
    {
     "name": "stdout",
     "output_type": "stream",
     "text": [
      "[1, 9, 0, 4, 1, 5, 7, 1, 9, 0, 4, 1, 5, 7]\n",
      "[1, 9, 0, 4, 1, 5, 7, 1, 9, 0, 4, 1, 5, 7]\n",
      "[1, 9, 0, 4, 1, 5, 7, 1, 9, 0, 4, 1, 5, 7]\n",
      "[1, 9, 0, 4, 1, 5, 7, 1, 9, 0, 4, 1, 5, 7]\n",
      "[1, 9, 0, 4, 1, 5, 7, 1, 9, 0, 4, 1, 5, 7]\n",
      "[1, 9, 0, 4, 1, 5, 7, 1, 9, 0, 4, 1, 5, 7]\n",
      "[1, 9, 0, 4, 1, 5, 7, 1, 9, 0, 4, 1, 5, 7]\n"
     ]
    }
   ],
   "source": [
    "for jelly in seq:\n",
    "    print(seq+seq)"
   ]
  },
  {
   "cell_type": "code",
   "execution_count": 8,
   "metadata": {},
   "outputs": [
    {
     "name": "stdout",
     "output_type": "stream",
     "text": [
      "2\n",
      "18\n",
      "0\n",
      "8\n",
      "2\n",
      "10\n",
      "14\n"
     ]
    }
   ],
   "source": [
    "for jelly in seq:\n",
    "    print(jelly+jelly)"
   ]
  },
  {
   "cell_type": "code",
   "execution_count": null,
   "metadata": {},
   "outputs": [],
   "source": []
  }
 ],
 "metadata": {
  "kernelspec": {
   "display_name": "Python 3",
   "language": "python",
   "name": "python3"
  },
  "language_info": {
   "codemirror_mode": {
    "name": "ipython",
    "version": 3
   },
   "file_extension": ".py",
   "mimetype": "text/x-python",
   "name": "python",
   "nbconvert_exporter": "python",
   "pygments_lexer": "ipython3",
   "version": "3.7.4"
  }
 },
 "nbformat": 4,
 "nbformat_minor": 2
}
