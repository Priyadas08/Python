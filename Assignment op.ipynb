{
 "cells": [
  {
   "cell_type": "code",
   "execution_count": 1,
   "id": "ddc40415",
   "metadata": {},
   "outputs": [
    {
     "name": "stdout",
     "output_type": "stream",
     "text": [
      "6\n",
      "10\n",
      "6\n",
      "1.5\n"
     ]
    }
   ],
   "source": [
    "a=4\n",
    "b=2\n",
    "c=a+b\n",
    "print(c)\n",
    "c+=a\n",
    "print(c)\n",
    "c-=a\n",
    "print(c)\n",
    "c/=a\n",
    "print(c)\n"
   ]
  },
  {
   "cell_type": "code",
   "execution_count": 4,
   "id": "d1f0bdd8",
   "metadata": {},
   "outputs": [
    {
     "name": "stdout",
     "output_type": "stream",
     "text": [
      "6\n",
      "10\n",
      "2\n",
      "1.0\n",
      "0.0\n",
      "0.0\n",
      "0.0\n"
     ]
    }
   ],
   "source": [
    "a=4\n",
    "b=2\n",
    "c=a+b\n",
    "print(c)\n",
    "c+=a\n",
    "print(c)\n",
    "a-=b\n",
    "print(a)\n",
    "a/=b\n",
    "print(a)\n",
    "a//=b\n",
    "print(a)\n",
    "a%=b\n",
    "print(a)\n",
    "a**=b\n",
    "print(a)"
   ]
  },
  {
   "cell_type": "code",
   "execution_count": 7,
   "id": "dfdb4941",
   "metadata": {},
   "outputs": [
    {
     "name": "stdout",
     "output_type": "stream",
     "text": [
      "10\n",
      "10\n",
      "0.0\n",
      "0.0\n",
      "0.0\n",
      "0.0\n",
      "0.0\n"
     ]
    }
   ],
   "source": [
    "a=4\n",
    "b=2\n",
    "c=a+b\n",
    "c+=a\n",
    "a-=b\n",
    "a/=b\n",
    "a//=b\n",
    "a**=b\n",
    "print(c)\n",
    "print(c)\n",
    "print(a)\n",
    "print(a)\n",
    "print(a)\n",
    "print(a)\n",
    "print(a)"
   ]
  },
  {
   "cell_type": "code",
   "execution_count": 8,
   "id": "08e65508",
   "metadata": {},
   "outputs": [
    {
     "name": "stdout",
     "output_type": "stream",
     "text": [
      "6\n",
      "10\n",
      "2\n",
      "1.0\n",
      "0.0\n",
      "0.0\n",
      "0.0\n"
     ]
    }
   ],
   "source": [
    "a=4\n",
    "b=2\n",
    "c=a+b\n",
    "print(c)\n",
    "c+=a\n",
    "print(c)\n",
    "a-=b\n",
    "print(a)\n",
    "a/=b\n",
    "print(a)\n",
    "a//=b\n",
    "print(a)\n",
    "a%=b\n",
    "print(a)\n",
    "a**=b\n",
    "print(a)"
   ]
  },
  {
   "cell_type": "code",
   "execution_count": 9,
   "id": "fdd961df",
   "metadata": {},
   "outputs": [
    {
     "name": "stdout",
     "output_type": "stream",
     "text": [
      "6\n",
      "10\n",
      "2\n",
      "2.0\n",
      "2\n",
      "0\n",
      "16\n"
     ]
    }
   ],
   "source": [
    "a=4\n",
    "b=2\n",
    "c=a+b\n",
    "print(c)\n",
    "c+=a\n",
    "print(c)\n",
    "a-=b\n",
    "print(a)\n",
    "a=4\n",
    "b=2\n",
    "a/=b\n",
    "print(a)\n",
    "a=4\n",
    "b=2\n",
    "a//=b\n",
    "print(a)\n",
    "a=4\n",
    "b=2\n",
    "a%=b\n",
    "print(a)\n",
    "a=4\n",
    "b=2\n",
    "a**=b\n",
    "print(a)"
   ]
  },
  {
   "cell_type": "code",
   "execution_count": null,
   "id": "d7e3ee8a",
   "metadata": {},
   "outputs": [],
   "source": []
  }
 ],
 "metadata": {
  "kernelspec": {
   "display_name": "Python 3",
   "language": "python",
   "name": "python3"
  },
  "language_info": {
   "codemirror_mode": {
    "name": "ipython",
    "version": 3
   },
   "file_extension": ".py",
   "mimetype": "text/x-python",
   "name": "python",
   "nbconvert_exporter": "python",
   "pygments_lexer": "ipython3",
   "version": "3.7.11"
  }
 },
 "nbformat": 4,
 "nbformat_minor": 5
}
