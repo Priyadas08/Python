{
 "cells": [
  {
   "cell_type": "code",
   "execution_count": 1,
   "metadata": {},
   "outputs": [
    {
     "name": "stdout",
     "output_type": "stream",
     "text": [
      "enter the first number1\n",
      "enter the second number2\n",
      "result 3\n"
     ]
    }
   ],
   "source": [
    "def add(a,b):\n",
    "    sum=a+b\n",
    "    return sum\n",
    "a=int(input(\"enter the first number\"))\n",
    "b=int(input(\"enter the second number\"))\n",
    "\n",
    "print(\"result\",add(a,b))"
   ]
  },
  {
   "cell_type": "code",
   "execution_count": 2,
   "metadata": {},
   "outputs": [
    {
     "name": "stdout",
     "output_type": "stream",
     "text": [
      "The sum is 57.996\n"
     ]
    }
   ],
   "source": [
    "def add_num(a,b):\n",
    "    sum=a+b\n",
    "    return sum\n",
    "num1=2.456\n",
    "num2=55.54\n",
    "print(\"The sum is\",add_num(num1,num2))"
   ]
  },
  {
   "cell_type": "code",
   "execution_count": 17,
   "metadata": {},
   "outputs": [
    {
     "name": "stdout",
     "output_type": "stream",
     "text": [
      "global 20\n",
      "local: 30\n",
      "40\n",
      "20\n"
     ]
    }
   ],
   "source": [
    "a=20\n",
    "\n",
    "def display():\n",
    "    b=30\n",
    "    print(\"global\",a)\n",
    "    print(\"local:\",b)\n",
    "    \n",
    "display()\n",
    "c=40\n",
    "print(c)\n",
    "print(a)"
   ]
  },
  {
   "cell_type": "code",
   "execution_count": 14,
   "metadata": {},
   "outputs": [
    {
     "name": "stdout",
     "output_type": "stream",
     "text": [
      "Final Score: 10\n",
      "Initial Score: 5\n"
     ]
    }
   ],
   "source": [
    "score = 5\n",
    "\n",
    "def calculateScore():\n",
    "    score = 10\n",
    "    print(\"Final Score:\", score)\n",
    "\n",
    "calculateScore()\n",
    "print(\"Initial Score:\", score)"
   ]
  },
  {
   "cell_type": "code",
   "execution_count": 18,
   "metadata": {},
   "outputs": [
    {
     "name": "stdout",
     "output_type": "stream",
     "text": [
      "global 20\n",
      "local: 30\n",
      "40\n"
     ]
    }
   ],
   "source": [
    "a=20\n",
    "\n",
    "def display():\n",
    "    b=30\n",
    "    print(\"global\",a)\n",
    "    print(\"local:\",b)\n",
    "    \n",
    "display()\n",
    "a=40\n",
    "print(a)"
   ]
  },
  {
   "cell_type": "code",
   "execution_count": 24,
   "metadata": {},
   "outputs": [
    {
     "name": "stdout",
     "output_type": "stream",
     "text": [
      "global 20\n",
      "local: 30\n",
      "42\n"
     ]
    }
   ],
   "source": [
    "a=20\n",
    "\n",
    "def display():\n",
    "    b=30\n",
    "    print(\"global\",a)\n",
    "    print(\"local:\",b)\n",
    "    \n",
    "display()\n",
    "a=40\n",
    "print(a+b)"
   ]
  },
  {
   "cell_type": "code",
   "execution_count": null,
   "metadata": {},
   "outputs": [],
   "source": []
  },
  {
   "cell_type": "code",
   "execution_count": null,
   "metadata": {},
   "outputs": [],
   "source": []
  }
 ],
 "metadata": {
  "kernelspec": {
   "display_name": "Python 3",
   "language": "python",
   "name": "python3"
  },
  "language_info": {
   "codemirror_mode": {
    "name": "ipython",
    "version": 3
   },
   "file_extension": ".py",
   "mimetype": "text/x-python",
   "name": "python",
   "nbconvert_exporter": "python",
   "pygments_lexer": "ipython3",
   "version": "3.7.4"
  }
 },
 "nbformat": 4,
 "nbformat_minor": 2
}
