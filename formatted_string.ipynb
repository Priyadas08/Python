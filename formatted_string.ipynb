{
 "cells": [
  {
   "cell_type": "code",
   "execution_count": 13,
   "metadata": {},
   "outputs": [
    {
     "name": "stdout",
     "output_type": "stream",
     "text": [
      "PriyaDas\n"
     ]
    }
   ],
   "source": [
    "first_name=\"Priya\"\n",
    "second_name=\"Das\"\n",
    "name= first_name + second_name\n",
    "print(name)"
   ]
  },
  {
   "cell_type": "code",
   "execution_count": 15,
   "metadata": {},
   "outputs": [
    {
     "name": "stdout",
     "output_type": "stream",
     "text": [
      "Priya Das\n"
     ]
    }
   ],
   "source": [
    "first_name=\"Priya\"\n",
    "second_name=\"Das\"\n",
    "name= first_name +\" \"+second_name\n",
    "print(name)"
   ]
  },
  {
   "cell_type": "code",
   "execution_count": 17,
   "metadata": {},
   "outputs": [
    {
     "name": "stdout",
     "output_type": "stream",
     "text": [
      "{first_name} {second_name}\n"
     ]
    }
   ],
   "source": [
    "first_name=\"Priya\"\n",
    "second_name=\"Das\"\n",
    "name= \"{first_name} {second_name}\"\n",
    "print(name)"
   ]
  },
  {
   "cell_type": "code",
   "execution_count": 18,
   "metadata": {},
   "outputs": [
    {
     "name": "stdout",
     "output_type": "stream",
     "text": [
      "Priya Das\n"
     ]
    }
   ],
   "source": [
    "first_name=\"Priya\"\n",
    "second_name=\"Das\"\n",
    "name= f\"{first_name} {second_name}\"\n",
    "print(name)"
   ]
  },
  {
   "cell_type": "code",
   "execution_count": 24,
   "metadata": {},
   "outputs": [
    {
     "name": "stdout",
     "output_type": "stream",
     "text": [
      "Priya Das\n"
     ]
    }
   ],
   "source": [
    "first_name=\"Priya\"\n",
    "second_name=\"Das\"\n",
    "name= (f\"{first_name} {second_name}\")\n",
    "print(name)"
   ]
  },
  {
   "cell_type": "code",
   "execution_count": 25,
   "metadata": {},
   "outputs": [
    {
     "name": "stdout",
     "output_type": "stream",
     "text": [
      "Priya Das \n",
      "Priya Das\n"
     ]
    }
   ],
   "source": [
    "first_name=\"Priya\"\n",
    "second_name=\"Das\"\n",
    "name= (f\"{first_name} {second_name} \\n{first_name} {second_name}\")\n",
    "print(name)"
   ]
  },
  {
   "cell_type": "code",
   "execution_count": 26,
   "metadata": {},
   "outputs": [
    {
     "name": "stdout",
     "output_type": "stream",
     "text": [
      "5 3\n"
     ]
    }
   ],
   "source": [
    "first_name=\"Priya\"\n",
    "second_name=\"Das\"\n",
    "name= f\"{len(first_name)} {len(second_name)}\"\n",
    "print(name)"
   ]
  },
  {
   "cell_type": "code",
   "execution_count": null,
   "metadata": {},
   "outputs": [],
   "source": []
  }
 ],
 "metadata": {
  "kernelspec": {
   "display_name": "Python 3",
   "language": "python",
   "name": "python3"
  },
  "language_info": {
   "codemirror_mode": {
    "name": "ipython",
    "version": 3
   },
   "file_extension": ".py",
   "mimetype": "text/x-python",
   "name": "python",
   "nbconvert_exporter": "python",
   "pygments_lexer": "ipython3",
   "version": "3.7.4"
  }
 },
 "nbformat": 4,
 "nbformat_minor": 2
}
