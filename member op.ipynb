{
 "cells": [
  {
   "cell_type": "code",
   "execution_count": 1,
   "id": "b0d23aa8",
   "metadata": {},
   "outputs": [
    {
     "name": "stdout",
     "output_type": "stream",
     "text": [
      "not overlapping\n"
     ]
    }
   ],
   "source": [
    "a=[1,2,3,4,5]\n",
    "b=[6,7,8,9]\n",
    "for item in a:\n",
    "    if item in b:\n",
    "        print(\"overlapping\")\n",
    "else:\n",
    "    print(\"not overlapping\")\n"
   ]
  },
  {
   "cell_type": "code",
   "execution_count": 2,
   "id": "31dc55ad",
   "metadata": {},
   "outputs": [
    {
     "name": "stdout",
     "output_type": "stream",
     "text": [
      "x is NOT present in given list\n",
      "y is present in given list\n"
     ]
    }
   ],
   "source": [
    "x = 24\n",
    "y = 20\n",
    "list = [10, 20, 30, 40, 50 ]\n",
    "  \n",
    "if ( x not in list ):\n",
    "   print(\"x is NOT present in given list\")\n",
    "else:\n",
    "   print(\"x is  present in given list\")\n",
    "  \n",
    "if ( y in list ):\n",
    "   print(\"y is present in given list\")\n",
    "else:\n",
    "   print(\"y is NOT present in given list\")"
   ]
  },
  {
   "cell_type": "code",
   "execution_count": 4,
   "id": "41199d23",
   "metadata": {},
   "outputs": [
    {
     "name": "stdout",
     "output_type": "stream",
     "text": [
      "54\n",
      "c is present in given list\n"
     ]
    }
   ],
   "source": [
    "a=4\n",
    "b=50\n",
    "c=a+b\n",
    "print(c)\n",
    "list=[1,54,50,60,45]\n",
    "if (c not in list):\n",
    "   printf(\"c is not present in givenn list\")\n",
    "else:\n",
    "   print(\"c is present in given list\")"
   ]
  },
  {
   "cell_type": "code",
   "execution_count": null,
   "id": "356315be",
   "metadata": {},
   "outputs": [],
   "source": []
  }
 ],
 "metadata": {
  "kernelspec": {
   "display_name": "Python 3",
   "language": "python",
   "name": "python3"
  },
  "language_info": {
   "codemirror_mode": {
    "name": "ipython",
    "version": 3
   },
   "file_extension": ".py",
   "mimetype": "text/x-python",
   "name": "python",
   "nbconvert_exporter": "python",
   "pygments_lexer": "ipython3",
   "version": "3.7.11"
  }
 },
 "nbformat": 4,
 "nbformat_minor": 5
}
